{
 "cells": [
  {
   "cell_type": "markdown",
   "id": "e0c2e03d",
   "metadata": {},
   "source": [
    "# AI PYTHON ASSIGNMENT"
   ]
  },
  {
   "cell_type": "markdown",
   "id": "96a477a9",
   "metadata": {},
   "source": [
    "1. Take list Of elements from the user and find the square root Ofeach number in the list and store in it another list and print that list."
   ]
  },
  {
   "cell_type": "code",
   "execution_count": 1,
   "id": "38ec6133",
   "metadata": {},
   "outputs": [
    {
     "name": "stdout",
     "output_type": "stream",
     "text": [
      "Enter Number of element in the list: 5\n",
      "25\n",
      "36\n",
      "81\n",
      "49\n",
      "16\n",
      "List 1: [25, 36, 81, 49, 16]\n",
      "Square Root of List 1: [5.0, 6.0, 9.0, 7.0, 4.0]\n"
     ]
    }
   ],
   "source": [
    "import math\n",
    "\n",
    "l1 = []\n",
    "l2 = []\n",
    "\n",
    "n = int(input(\"Enter Number of element in the list: \"))\n",
    "\n",
    "for i in range(0,n):\n",
    "    e = int(input())\n",
    "    \n",
    "    l1.append(e)\n",
    "    \n",
    "    m = math.sqrt(e)\n",
    "    \n",
    "    l2.append(m)\n",
    "    \n",
    "print(\"List 1:\",l1)\n",
    "print(\"Square Root of List 1:\",l2)"
   ]
  },
  {
   "cell_type": "markdown",
   "id": "bfd71908",
   "metadata": {},
   "source": [
    "2. write a function which prints all the numbers divisible by 3 and 5"
   ]
  },
  {
   "cell_type": "code",
   "execution_count": 2,
   "id": "d3ba3fb2",
   "metadata": {},
   "outputs": [
    {
     "name": "stdout",
     "output_type": "stream",
     "text": [
      "Enter an Integer for upto all numbers are divisible by 3 and 5:\n",
      "100\n",
      "15\n",
      "30\n",
      "45\n",
      "60\n",
      "75\n",
      "90\n"
     ]
    }
   ],
   "source": [
    "def div_by_3_and_5():\n",
    "    for i in range (1,n):\n",
    "        if i%3==0 and i%5==0:\n",
    "            print(i)\n",
    "            \n",
    "n = int(input(\"Enter an Integer for upto all numbers are divisible by 3 and 5:\\n\"))\n",
    "div_by_3_and_5()"
   ]
  },
  {
   "cell_type": "markdown",
   "id": "8238c007",
   "metadata": {},
   "source": [
    "3. Write a program to check whether a given letter is vowel or consonant"
   ]
  },
  {
   "cell_type": "code",
   "execution_count": 3,
   "id": "de6a38d8",
   "metadata": {},
   "outputs": [
    {
     "name": "stdout",
     "output_type": "stream",
     "text": [
      "Enter a Letter: a\n",
      "a is a vowel\n"
     ]
    }
   ],
   "source": [
    "vowel = {'a','e','i','o','u','A','E','I','O','U'}\n",
    "\n",
    "letter = str(input(\"Enter a Letter: \"))\n",
    "\n",
    "if letter not in vowel:\n",
    "    print(letter,\"is a consonent\")\n",
    "    \n",
    "else:\n",
    "    print(letter,'is a vowel')"
   ]
  },
  {
   "cell_type": "markdown",
   "id": "8c99f1eb",
   "metadata": {},
   "source": [
    "4. calculate the distance between any two characters given by user\n",
    "    (Example distance between \"a\" and \"d\" is 3)"
   ]
  },
  {
   "cell_type": "code",
   "execution_count": 4,
   "id": "6324b461",
   "metadata": {},
   "outputs": [
    {
     "name": "stdout",
     "output_type": "stream",
     "text": [
      "Enter First Charcter: a\n",
      "Enter Second Character: d\n",
      "3\n"
     ]
    }
   ],
   "source": [
    "def char_distance(char1, char2):\n",
    "    print(abs(ord(char1) - ord(char2)))\n",
    "    \n",
    "n = input(\"Enter First Charcter: \")\n",
    "m = input(\"Enter Second Character: \")\n",
    "char_distance(n, m)"
   ]
  },
  {
   "cell_type": "markdown",
   "id": "8f1b2d29",
   "metadata": {},
   "source": [
    "5. write a function which returns the number of vowels present in the given string"
   ]
  },
  {
   "cell_type": "code",
   "execution_count": 5,
   "id": "b33f6092",
   "metadata": {},
   "outputs": [
    {
     "name": "stdout",
     "output_type": "stream",
     "text": [
      "Enter a word: Raushan\n",
      "Vowels in your word: a u a\n",
      "No. of vowels: 3\n"
     ]
    }
   ],
   "source": [
    "def vowel_present_in_string(string):\n",
    "    vowel = ['a', 'e', 'i', 'o', 'u', 'A', 'E', 'I', 'O', 'U']\n",
    "    count = 0\n",
    "    list = []\n",
    "    \n",
    "    for letter in string:\n",
    "        if letter in vowel:\n",
    "            count += 1\n",
    "            list.append(letter)\n",
    "            \n",
    "    print('Vowels in your word:',*list)\n",
    "    print('No. of vowels:',count)\n",
    "        \n",
    "string = input(\"Enter a word: \")\n",
    "vowel_present_in_string(string)"
   ]
  },
  {
   "cell_type": "markdown",
   "id": "f94db6f2",
   "metadata": {},
   "source": [
    "6. print all the alphabets by using loop and ascii code"
   ]
  },
  {
   "cell_type": "code",
   "execution_count": 6,
   "id": "f162847c",
   "metadata": {},
   "outputs": [
    {
     "name": "stdout",
     "output_type": "stream",
     "text": [
      "A  B  C  D  E  F  G  H  I  J  K  L  M  N  O  P  Q  R  S  T  U  V  W  X  Y  Z  "
     ]
    }
   ],
   "source": [
    "for i in range(65,91):\n",
    "    print(chr(i), end='  ')"
   ]
  },
  {
   "cell_type": "markdown",
   "id": "0754a305",
   "metadata": {},
   "source": [
    "7. write a program find the sum of all the even numbers of the list"
   ]
  },
  {
   "cell_type": "code",
   "execution_count": 7,
   "id": "d0d4582c",
   "metadata": {},
   "outputs": [
    {
     "name": "stdout",
     "output_type": "stream",
     "text": [
      "Enter the Number of Element in a List: 5\n",
      "Enter the Integers of the list here:\n",
      "1\n",
      "2\n",
      "3\n",
      "4\n",
      "5\n",
      "Sum of all the even numbers of the list: 6\n"
     ]
    }
   ],
   "source": [
    "lst = []\n",
    "n = int(input(\"Enter the Number of Element in a List: \"))\n",
    "print(\"Enter the Integers of the list here:\")\n",
    "\n",
    "for i in range(0,n):\n",
    "    m = int(input())\n",
    "    lst.append(m)\n",
    "    \n",
    "even_sum = sum([num for num in lst if num % 2 == 0])\n",
    "print(\"Sum of all the even numbers of the list:\",even_sum)"
   ]
  },
  {
   "cell_type": "markdown",
   "id": "2de47b60",
   "metadata": {},
   "source": [
    "8. write a program for print the squares of all the numbers, except for factors of 3"
   ]
  },
  {
   "cell_type": "code",
   "execution_count": 8,
   "id": "d5f2ba87",
   "metadata": {},
   "outputs": [
    {
     "name": "stdout",
     "output_type": "stream",
     "text": [
      "Enter an integer for upto the squares of all the numbers, except for factor of 3:\n",
      "10\n",
      "1\n",
      "4\n",
      "16\n",
      "25\n",
      "49\n",
      "64\n"
     ]
    }
   ],
   "source": [
    "n = int(input(\"Enter an integer for upto the squares of all the numbers, except for factor of 3:\\n\"))\n",
    "\n",
    "for i in range (1,n):\n",
    "    if i%3!=0:\n",
    "        i=i*i\n",
    "        \n",
    "        print(i)"
   ]
  },
  {
   "cell_type": "markdown",
   "id": "740da7ac",
   "metadata": {},
   "source": [
    "9. Take 2 strings from user and then replace all the A's with a's and then concatenate the 2 strings and print"
   ]
  },
  {
   "cell_type": "code",
   "execution_count": 9,
   "id": "5b49f3ed",
   "metadata": {},
   "outputs": [
    {
     "name": "stdout",
     "output_type": "stream",
     "text": [
      "Enter the first string: RAUSHAN\n",
      "Enter the second string: KUMAR\n",
      "RaUSHaNKUMaR\n"
     ]
    }
   ],
   "source": [
    "def replace_and_concatenate_strings(str1: str, str2: str) -> str:\n",
    "    str1 = str1.replace('A', 'a')\n",
    "    str2 = str2.replace('A', 'a')\n",
    "    return str1 + str2\n",
    "\n",
    "str1 = input(\"Enter the first string: \")\n",
    "str2 = input(\"Enter the second string: \")\n",
    "print(replace_and_concatenate_strings(str1, str2))"
   ]
  },
  {
   "cell_type": "markdown",
   "id": "6be4f40c",
   "metadata": {},
   "source": [
    "10. Write a program to get a list of odd number from the list of numbers given by user (use list comprehension)"
   ]
  },
  {
   "cell_type": "code",
   "execution_count": 10,
   "id": "02635d26",
   "metadata": {},
   "outputs": [
    {
     "name": "stdout",
     "output_type": "stream",
     "text": [
      "Enter the number of element in a list: 5\n",
      "Enter the numbers:\n",
      "1\n",
      "2\n",
      "3\n",
      "4\n",
      "5\n",
      "Odd Numbers in the list is: [1, 3, 5]\n"
     ]
    }
   ],
   "source": [
    "lst = []\n",
    "n = int(input(\"Enter the number of element in a list: \"))\n",
    "print(\"Enter the numbers:\")\n",
    "\n",
    "for i in range (0,n):\n",
    "    m = int(input())\n",
    "    lst.append(m)\n",
    "    \n",
    "odd_num = [x for x in lst if x%2!=0]\n",
    "print('Odd Numbers in the list is:',odd_num)"
   ]
  },
  {
   "cell_type": "markdown",
   "id": "24378113",
   "metadata": {},
   "source": [
    "11. write a program to print lower when you have upper letter in string and vice versa (if your input is \"aBcD\" your output should be \"AbCd\")"
   ]
  },
  {
   "cell_type": "code",
   "execution_count": 11,
   "id": "3b408036",
   "metadata": {},
   "outputs": [
    {
     "name": "stdout",
     "output_type": "stream",
     "text": [
      "Enter your String: aBcD\n",
      "Your New String: AbCd\n"
     ]
    }
   ],
   "source": [
    "string = input(\"Enter your String: \")\n",
    "print(\"Your New String:\",string.swapcase())"
   ]
  }
 ],
 "metadata": {
  "kernelspec": {
   "display_name": "Python 3 (ipykernel)",
   "language": "python",
   "name": "python3"
  },
  "language_info": {
   "codemirror_mode": {
    "name": "ipython",
    "version": 3
   },
   "file_extension": ".py",
   "mimetype": "text/x-python",
   "name": "python",
   "nbconvert_exporter": "python",
   "pygments_lexer": "ipython3",
   "version": "3.10.9"
  }
 },
 "nbformat": 4,
 "nbformat_minor": 5
}
